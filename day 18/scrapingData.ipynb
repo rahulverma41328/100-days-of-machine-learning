{
 "cells": [
  {
   "cell_type": "code",
   "execution_count": 3,
   "id": "2e8c7b6e",
   "metadata": {},
   "outputs": [],
   "source": [
    "import pandas as pd\n",
    "import requests\n",
    "import numpy as np\n",
    "from bs4 import BeautifulSoup"
   ]
  },
  {
   "cell_type": "code",
   "execution_count": 4,
   "id": "faaccb80",
   "metadata": {},
   "outputs": [],
   "source": [
    "headers={'User-Agent':'Mozilla/5.0 (Windows NT 6.3; Win 64 ; x64) Apple WeKit /537.36(KHTML , like Gecko) Chrome/80.0.3987.162 Safari/537.36'}\n",
    "webpage = requests.get('https://www.wpbeginner.com/blog/page/1/',headers = headers).text\n"
   ]
  },
  {
   "cell_type": "code",
   "execution_count": 5,
   "id": "b6a2b1db",
   "metadata": {},
   "outputs": [],
   "source": [
    "soup = BeautifulSoup(webpage,'lxml')"
   ]
  },
  {
   "cell_type": "code",
   "execution_count": 8,
   "id": "697dd386",
   "metadata": {},
   "outputs": [],
   "source": [
    "#print(soup.prettify()).head()"
   ]
  },
  {
   "cell_type": "code",
   "execution_count": 43,
   "id": "3e7fcb8e",
   "metadata": {},
   "outputs": [
    {
     "data": {
      "text/plain": [
       "[<h1 class=\"archive-title\">Blog</h1>]"
      ]
     },
     "execution_count": 43,
     "metadata": {},
     "output_type": "execute_result"
    }
   ],
   "source": [
    "soup.find_all('h1')\n"
   ]
  },
  {
   "cell_type": "code",
   "execution_count": 5,
   "id": "65fda289",
   "metadata": {},
   "outputs": [
    {
     "data": {
      "text/plain": [
       "[<h2 class=\"entry-title\" itemprop=\"headline\"><a class=\"entry-title-link\" href=\"https://www.wpbeginner.com/plugins/how-to-create-a-woocommerce-product-image-gallery-step-by-step/\" rel=\"bookmark\">How to Create a WooCommerce Product Image Gallery (Step by Step)</a></h2>,\n",
       " <h2 class=\"entry-title\" itemprop=\"headline\"><a class=\"entry-title-link\" href=\"https://www.wpbeginner.com/showcase/best-recipe-plugins-for-wordpress/\" rel=\"bookmark\">9 Best Recipe Plugins for WordPress (Free and Paid)</a></h2>,\n",
       " <h2 class=\"entry-title\" itemprop=\"headline\"><a class=\"entry-title-link\" href=\"https://www.wpbeginner.com/beginners-guide/how-to-setup-a-professional-email-address-with-gmail-and-google-apps/\" rel=\"bookmark\">How to Setup a Professional Email Address With Gmail and Workspace</a></h2>,\n",
       " <h2 class=\"entry-title\" itemprop=\"headline\"><a class=\"entry-title-link\" href=\"https://www.wpbeginner.com/opinion/should-you-accept-guest-posts-on-your-wordpress-blog/\" rel=\"bookmark\">Should You Accept Guest Posts on Your WordPress Blog? (Pros/Cons)</a></h2>,\n",
       " <h2 class=\"entry-title\" itemprop=\"headline\"><a class=\"entry-title-link\" href=\"https://www.wpbeginner.com/wp-tutorials/how-to-highlight-text-in-wordpress/\" rel=\"bookmark\">How to Highlight Text in WordPress (Beginner’s Guide)</a></h2>,\n",
       " <h2 class=\"entry-title\" itemprop=\"headline\"><a class=\"entry-title-link\" href=\"https://www.wpbeginner.com/plugins/how-to-get-ga4-site-annotations-and-notes-in-wordpress/\" rel=\"bookmark\">How to Get GA4 Site Annotations and Notes in WordPress</a></h2>,\n",
       " <h2 class=\"entry-title\" itemprop=\"headline\"><a class=\"entry-title-link\" href=\"https://www.wpbeginner.com/plugins/how-to-use-headline-analyzer-in-wordpress-to-improve-seo-titles/\" rel=\"bookmark\">How to Use Headline Analyzer in WordPress to Improve SEO Titles</a></h2>,\n",
       " <h2 class=\"entry-title\" itemprop=\"headline\"><a class=\"entry-title-link\" href=\"https://www.wpbeginner.com/news/introducing-seo-analyzer-tool/\" rel=\"bookmark\">Introducing WPBeginner SEO Analyzer: Free SEO Audit Tool to Boost Rankings</a></h2>,\n",
       " <h2 class=\"entry-title\" itemprop=\"headline\"><a class=\"entry-title-link\" href=\"https://www.wpbeginner.com/plugins/how-to-filter-woocommerce-products/\" rel=\"bookmark\">How to Filter WooCommerce Products (Step-by-Step Tutorial)</a></h2>,\n",
       " <h2 class=\"entry-title\" itemprop=\"headline\"><a class=\"entry-title-link\" href=\"https://www.wpbeginner.com/plugins/how-to-bulk-edit-featured-images-in-wordpress/\" rel=\"bookmark\">How to Bulk Edit Featured Images in WordPress</a></h2>,\n",
       " <h2 class=\"genesis-sidebar-title screen-reader-text\">Primary Sidebar</h2>]"
      ]
     },
     "execution_count": 5,
     "metadata": {},
     "output_type": "execute_result"
    }
   ],
   "source": [
    "soup.find_all('h2')"
   ]
  },
  {
   "cell_type": "code",
   "execution_count": 25,
   "id": "9d090c12",
   "metadata": {},
   "outputs": [
    {
     "data": {
      "text/plain": [
       "['How to Create a WooCommerce Product Image Gallery (Step by Step)',\n",
       " '9 Best Recipe Plugins for WordPress (Free and Paid)',\n",
       " 'How to Setup a Professional Email Address With Gmail and Workspace',\n",
       " 'Should You Accept Guest Posts on Your WordPress Blog? (Pros/Cons)',\n",
       " 'How to Highlight Text in WordPress (Beginner’s Guide)',\n",
       " 'How to Get GA4 Site Annotations and Notes in WordPress',\n",
       " 'How to Use Headline Analyzer in WordPress to Improve SEO Titles',\n",
       " 'Introducing WPBeginner SEO Analyzer: Free SEO Audit Tool to Boost Rankings',\n",
       " 'How to Filter WooCommerce Products (Step-by-Step Tutorial)',\n",
       " 'How to Bulk Edit Featured Images in WordPress']"
      ]
     },
     "execution_count": 25,
     "metadata": {},
     "output_type": "execute_result"
    }
   ],
   "source": [
    "postHeading = []\n",
    "for i in soup.find_all('h2'):\n",
    "    postHeading.append(i.text.strip())\n",
    "postHeading.remove('Primary Sidebar')\n",
    "postHeading\n"
   ]
  },
  {
   "cell_type": "code",
   "execution_count": 26,
   "id": "65805b3e",
   "metadata": {
    "scrolled": true
   },
   "outputs": [
    {
     "data": {
      "text/plain": [
       "['Last updated on June 2nd, 2023 by Editorial Staff',\n",
       " 'Last updated on June 2nd, 2023 by Editorial Staff',\n",
       " 'Last updated on June 1st, 2023 by Editorial Staff',\n",
       " 'Last updated on June 1st, 2023 by Editorial Staff',\n",
       " 'Last updated on May 31st, 2023 by Editorial Staff',\n",
       " 'Last updated on May 31st, 2023 by Editorial Staff',\n",
       " 'Last updated on May 30th, 2023 by Editorial Staff',\n",
       " 'Last updated on May 30th, 2023 by Syed Balkhi',\n",
       " 'Last updated on May 29th, 2023 by Editorial Staff',\n",
       " 'Last updated on May 29th, 2023 by Editorial Staff']"
      ]
     },
     "execution_count": 26,
     "metadata": {},
     "output_type": "execute_result"
    }
   ],
   "source": [
    "date = []\n",
    "for i in soup.find_all('p', class_ = \"entry-meta\"):\n",
    "    date.append(i.text.strip())\n",
    "date"
   ]
  },
  {
   "cell_type": "code",
   "execution_count": 27,
   "id": "2f88e4ba",
   "metadata": {},
   "outputs": [],
   "source": [
    "d = {'post':postHeading,'date':date}"
   ]
  },
  {
   "cell_type": "code",
   "execution_count": 28,
   "id": "af7edd0d",
   "metadata": {},
   "outputs": [],
   "source": [
    "df = pd.DataFrame(d)"
   ]
  },
  {
   "cell_type": "code",
   "execution_count": 29,
   "id": "e9f54c78",
   "metadata": {},
   "outputs": [
    {
     "data": {
      "text/html": [
       "<div>\n",
       "<style scoped>\n",
       "    .dataframe tbody tr th:only-of-type {\n",
       "        vertical-align: middle;\n",
       "    }\n",
       "\n",
       "    .dataframe tbody tr th {\n",
       "        vertical-align: top;\n",
       "    }\n",
       "\n",
       "    .dataframe thead th {\n",
       "        text-align: right;\n",
       "    }\n",
       "</style>\n",
       "<table border=\"1\" class=\"dataframe\">\n",
       "  <thead>\n",
       "    <tr style=\"text-align: right;\">\n",
       "      <th></th>\n",
       "      <th>post</th>\n",
       "      <th>date</th>\n",
       "    </tr>\n",
       "  </thead>\n",
       "  <tbody>\n",
       "    <tr>\n",
       "      <th>0</th>\n",
       "      <td>How to Create a WooCommerce Product Image Gall...</td>\n",
       "      <td>Last updated on June 2nd, 2023 by Editorial Staff</td>\n",
       "    </tr>\n",
       "    <tr>\n",
       "      <th>1</th>\n",
       "      <td>9 Best Recipe Plugins for WordPress (Free and ...</td>\n",
       "      <td>Last updated on June 2nd, 2023 by Editorial Staff</td>\n",
       "    </tr>\n",
       "    <tr>\n",
       "      <th>2</th>\n",
       "      <td>How to Setup a Professional Email Address With...</td>\n",
       "      <td>Last updated on June 1st, 2023 by Editorial Staff</td>\n",
       "    </tr>\n",
       "    <tr>\n",
       "      <th>3</th>\n",
       "      <td>Should You Accept Guest Posts on Your WordPres...</td>\n",
       "      <td>Last updated on June 1st, 2023 by Editorial Staff</td>\n",
       "    </tr>\n",
       "    <tr>\n",
       "      <th>4</th>\n",
       "      <td>How to Highlight Text in WordPress (Beginner’s...</td>\n",
       "      <td>Last updated on May 31st, 2023 by Editorial Staff</td>\n",
       "    </tr>\n",
       "    <tr>\n",
       "      <th>5</th>\n",
       "      <td>How to Get GA4 Site Annotations and Notes in W...</td>\n",
       "      <td>Last updated on May 31st, 2023 by Editorial Staff</td>\n",
       "    </tr>\n",
       "    <tr>\n",
       "      <th>6</th>\n",
       "      <td>How to Use Headline Analyzer in WordPress to I...</td>\n",
       "      <td>Last updated on May 30th, 2023 by Editorial Staff</td>\n",
       "    </tr>\n",
       "    <tr>\n",
       "      <th>7</th>\n",
       "      <td>Introducing WPBeginner SEO Analyzer: Free SEO ...</td>\n",
       "      <td>Last updated on May 30th, 2023 by Syed Balkhi</td>\n",
       "    </tr>\n",
       "    <tr>\n",
       "      <th>8</th>\n",
       "      <td>How to Filter WooCommerce Products (Step-by-St...</td>\n",
       "      <td>Last updated on May 29th, 2023 by Editorial Staff</td>\n",
       "    </tr>\n",
       "    <tr>\n",
       "      <th>9</th>\n",
       "      <td>How to Bulk Edit Featured Images in WordPress</td>\n",
       "      <td>Last updated on May 29th, 2023 by Editorial Staff</td>\n",
       "    </tr>\n",
       "  </tbody>\n",
       "</table>\n",
       "</div>"
      ],
      "text/plain": [
       "                                                post  \\\n",
       "0  How to Create a WooCommerce Product Image Gall...   \n",
       "1  9 Best Recipe Plugins for WordPress (Free and ...   \n",
       "2  How to Setup a Professional Email Address With...   \n",
       "3  Should You Accept Guest Posts on Your WordPres...   \n",
       "4  How to Highlight Text in WordPress (Beginner’s...   \n",
       "5  How to Get GA4 Site Annotations and Notes in W...   \n",
       "6  How to Use Headline Analyzer in WordPress to I...   \n",
       "7  Introducing WPBeginner SEO Analyzer: Free SEO ...   \n",
       "8  How to Filter WooCommerce Products (Step-by-St...   \n",
       "9      How to Bulk Edit Featured Images in WordPress   \n",
       "\n",
       "                                                date  \n",
       "0  Last updated on June 2nd, 2023 by Editorial Staff  \n",
       "1  Last updated on June 2nd, 2023 by Editorial Staff  \n",
       "2  Last updated on June 1st, 2023 by Editorial Staff  \n",
       "3  Last updated on June 1st, 2023 by Editorial Staff  \n",
       "4  Last updated on May 31st, 2023 by Editorial Staff  \n",
       "5  Last updated on May 31st, 2023 by Editorial Staff  \n",
       "6  Last updated on May 30th, 2023 by Editorial Staff  \n",
       "7      Last updated on May 30th, 2023 by Syed Balkhi  \n",
       "8  Last updated on May 29th, 2023 by Editorial Staff  \n",
       "9  Last updated on May 29th, 2023 by Editorial Staff  "
      ]
     },
     "execution_count": 29,
     "metadata": {},
     "output_type": "execute_result"
    }
   ],
   "source": [
    "df"
   ]
  },
  {
   "cell_type": "code",
   "execution_count": null,
   "id": "e886a3f6",
   "metadata": {},
   "outputs": [],
   "source": []
  }
 ],
 "metadata": {
  "kernelspec": {
   "display_name": "Python 3 (ipykernel)",
   "language": "python",
   "name": "python3"
  },
  "language_info": {
   "codemirror_mode": {
    "name": "ipython",
    "version": 3
   },
   "file_extension": ".py",
   "mimetype": "text/x-python",
   "name": "python",
   "nbconvert_exporter": "python",
   "pygments_lexer": "ipython3",
   "version": "3.10.9"
  }
 },
 "nbformat": 4,
 "nbformat_minor": 5
}
